{
 "cells": [
  {
   "cell_type": "markdown",
   "id": "c223bce2",
   "metadata": {},
   "source": [
    "<img src=\"../img/ejercicio_01.gif\">"
   ]
  },
  {
   "cell_type": "markdown",
   "id": "ae2ba313",
   "metadata": {},
   "source": [
    "Calular la capacitancia equivalente."
   ]
  },
  {
   "cell_type": "code",
   "execution_count": 8,
   "id": "906bf68f",
   "metadata": {},
   "outputs": [],
   "source": [
    "import pandas as pd"
   ]
  },
  {
   "cell_type": "code",
   "execution_count": 9,
   "id": "aa5d2eae",
   "metadata": {},
   "outputs": [],
   "source": [
    "# Se crea la funcion para capacitancias en serie:\n",
    "def serie(valores:list):\n",
    "    Ceq = pd.DataFrame(valores)\n",
    "    Ceq = 1/Ceq\n",
    "    value = Ceq.sum()\n",
    "    return float(1/value)"
   ]
  },
  {
   "cell_type": "code",
   "execution_count": 10,
   "id": "642dc046",
   "metadata": {},
   "outputs": [],
   "source": [
    "# Se crea la funcion para capacitancias en paralelo:\n",
    "def paralelo(valores:list):\n",
    "    Ceq = pd.DataFrame(valores)\n",
    "    return float(Ceq.sum())"
   ]
  },
  {
   "cell_type": "code",
   "execution_count": 11,
   "id": "8bf89acf",
   "metadata": {},
   "outputs": [
    {
     "data": {
      "text/plain": [
       "2.0"
      ]
     },
     "execution_count": 11,
     "metadata": {},
     "output_type": "execute_result"
    }
   ],
   "source": [
    "# Se calcula la capacitancia Ceq1\n",
    "Ceq1 = paralelo([1,1])\n",
    "Ceq1"
   ]
  },
  {
   "cell_type": "code",
   "execution_count": 12,
   "id": "ce35cdcc",
   "metadata": {},
   "outputs": [
    {
     "data": {
      "text/plain": [
       "0.6666666666666666"
      ]
     },
     "execution_count": 12,
     "metadata": {},
     "output_type": "execute_result"
    }
   ],
   "source": [
    "# Se calcula la capacitancia Ceq2\n",
    "Ceq2 = serie([2,Ceq1,2])\n",
    "Ceq2"
   ]
  },
  {
   "cell_type": "code",
   "execution_count": 13,
   "id": "ff1b6efe",
   "metadata": {},
   "outputs": [
    {
     "data": {
      "text/plain": [
       "1.0"
      ]
     },
     "execution_count": 13,
     "metadata": {},
     "output_type": "execute_result"
    }
   ],
   "source": [
    "# Se calcula la capacitancia Ceq3\n",
    "Ceq3 = paralelo([1/3,Ceq2])\n",
    "Ceq3"
   ]
  },
  {
   "cell_type": "code",
   "execution_count": 17,
   "id": "6eaa6197",
   "metadata": {},
   "outputs": [
    {
     "name": "stdout",
     "output_type": "stream",
     "text": [
      "0.33 uF\n"
     ]
    }
   ],
   "source": [
    "# Se calcula la capacitancia Ceq4\n",
    "Ceq4 = serie([1,Ceq3,1])\n",
    "Ceq4 = round(Ceq4,2)\n",
    "print(Ceq4,\"uF\")"
   ]
  },
  {
   "cell_type": "code",
   "execution_count": null,
   "id": "534dff8b",
   "metadata": {},
   "outputs": [],
   "source": []
  }
 ],
 "metadata": {
  "kernelspec": {
   "display_name": "Python 3 (ipykernel)",
   "language": "python",
   "name": "python3"
  },
  "language_info": {
   "codemirror_mode": {
    "name": "ipython",
    "version": 3
   },
   "file_extension": ".py",
   "mimetype": "text/x-python",
   "name": "python",
   "nbconvert_exporter": "python",
   "pygments_lexer": "ipython3",
   "version": "3.9.13"
  }
 },
 "nbformat": 4,
 "nbformat_minor": 5
}
