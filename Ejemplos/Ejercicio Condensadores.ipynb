{
 "cells": [
  {
   "cell_type": "markdown",
   "id": "2c76f5b7",
   "metadata": {},
   "source": [
    "<img src=\"../img/ejercicio_01.gif\">"
   ]
  },
  {
   "cell_type": "markdown",
   "id": "6967fea1",
   "metadata": {},
   "source": [
    "Calcular la capacitancia equivalente"
   ]
  },
  {
   "cell_type": "code",
   "execution_count": 1,
   "id": "4e56e97b",
   "metadata": {},
   "outputs": [],
   "source": [
    "#Se crean las funciones para calular la capacitancia en serie y paralelo"
   ]
  },
  {
   "cell_type": "code",
   "execution_count": 2,
   "id": "27985f57",
   "metadata": {},
   "outputs": [],
   "source": [
    "import pandas as pd    "
   ]
  },
  {
   "cell_type": "code",
   "execution_count": 4,
   "id": "5753bc5d",
   "metadata": {},
   "outputs": [],
   "source": [
    "#Capacitancia en Serie:\n",
    "def serie(valores:list):\n",
    "    Ceq = pd.DataFrame(valores)\n",
    "    Ceq = 1/Ceq\n",
    "    value = Ceq.sum()\n",
    "    return float(1/value)"
   ]
  },
  {
   "cell_type": "code",
   "execution_count": 5,
   "id": "80977f3e",
   "metadata": {},
   "outputs": [],
   "source": [
    "# Capacitancia en Paralelo:\n",
    "def paralelo(valores:list):\n",
    "    Ceq = pd.DataFrame(valores)\n",
    "    return float(Ceq.sum())"
   ]
  },
  {
   "cell_type": "code",
   "execution_count": 8,
   "id": "3b628fd4",
   "metadata": {},
   "outputs": [
    {
     "data": {
      "text/plain": [
       "2.0"
      ]
     },
     "execution_count": 8,
     "metadata": {},
     "output_type": "execute_result"
    }
   ],
   "source": [
    "# 1. Capacitancia equivalente Ceq1 - Paralelo\n",
    "Ceq1 = paralelo([1,1])\n",
    "Ceq1"
   ]
  },
  {
   "cell_type": "code",
   "execution_count": 9,
   "id": "2f94dd7c",
   "metadata": {},
   "outputs": [
    {
     "data": {
      "text/plain": [
       "0.6666666666666666"
      ]
     },
     "execution_count": 9,
     "metadata": {},
     "output_type": "execute_result"
    }
   ],
   "source": [
    "# 2. Capacitancia equivalente Ceq2 - Serie\n",
    "Ceq2 = serie([2,Ceq1,2])\n",
    "Ceq2"
   ]
  },
  {
   "cell_type": "code",
   "execution_count": 10,
   "id": "54452912",
   "metadata": {},
   "outputs": [
    {
     "data": {
      "text/plain": [
       "1.0"
      ]
     },
     "execution_count": 10,
     "metadata": {},
     "output_type": "execute_result"
    }
   ],
   "source": [
    "# 3. Capacitancia equivalente Ceq3 - Paralelo\n",
    "Ceq3 = paralelo([1/3,Ceq2])\n",
    "Ceq3"
   ]
  },
  {
   "cell_type": "code",
   "execution_count": 14,
   "id": "561c5e20",
   "metadata": {},
   "outputs": [
    {
     "name": "stdout",
     "output_type": "stream",
     "text": [
      "0.33 uF\n"
     ]
    }
   ],
   "source": [
    "# 4. Capacitancia equivalente Ctotal - Serie\n",
    "Ctotal = serie([1,Ceq3,1])\n",
    "Ctotal = round(Ctotal,2)\n",
    "print(Ctotal,\"uF\")"
   ]
  },
  {
   "cell_type": "code",
   "execution_count": null,
   "id": "d9c5dcc5",
   "metadata": {},
   "outputs": [],
   "source": [
    "# Fin"
   ]
  }
 ],
 "metadata": {
  "kernelspec": {
   "display_name": "Python 3 (ipykernel)",
   "language": "python",
   "name": "python3"
  },
  "language_info": {
   "codemirror_mode": {
    "name": "ipython",
    "version": 3
   },
   "file_extension": ".py",
   "mimetype": "text/x-python",
   "name": "python",
   "nbconvert_exporter": "python",
   "pygments_lexer": "ipython3",
   "version": "3.9.13"
  }
 },
 "nbformat": 4,
 "nbformat_minor": 5
}
